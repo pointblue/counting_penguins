{
 "cells": [
  {
   "cell_type": "code",
   "execution_count": 1,
   "metadata": {
    "scrolled": true
   },
   "outputs": [
    {
     "name": "stdout",
     "output_type": "stream",
     "text": [
      "D:\\projects\\counting_penguins\n",
      "../models/adult_s2_best.pt\n",
      "adult_s2_best\n"
     ]
    },
    {
     "name": "stderr",
     "output_type": "stream",
     "text": [
      "YOLOv5  v6.1-250-g6adc53b Python-3.8.2 torch-1.9.1+cu111 CPU\n",
      "\n",
      "Fusing layers... \n",
      "PB2021_adult_YOLOv5l summary: 400 layers, 47364662 parameters, 0 gradients\n",
      "image 1/1 D:\\projects\\counting_penguins\\test_images\\test\\croz_20201129_v1_tiled-4-10_0_7.png: 128x256 12 ADPE_as, Done. (0.126s)\n",
      "Speed: 1.0ms pre-process, 125.7ms inference, 1.0ms NMS per image at shape (1, 3, 512, 256)\n",
      "Results saved to \u001b[1mpenguin_2021\\adult_s2_best23\u001b[0m\n",
      "YOLOv5  v6.1-250-g6adc53b Python-3.8.2 torch-1.9.1+cu111 CPU\n",
      "\n"
     ]
    },
    {
     "name": "stdout",
     "output_type": "stream",
     "text": [
      "../models/adult_stand_s5_best.pt\n",
      "adult_stand_s5_best\n"
     ]
    },
    {
     "name": "stderr",
     "output_type": "stream",
     "text": [
      "Fusing layers... \n",
      "PB2021_adult_stand_YOLOv5l summary: 400 layers, 47364662 parameters, 0 gradients\n",
      "image 1/1 D:\\projects\\counting_penguins\\test_images\\test\\croz_20201129_v1_tiled-4-10_0_7.png: 128x256 9 ADPE_a_stands, Done. (0.135s)\n",
      "Speed: 0.0ms pre-process, 134.6ms inference, 0.0ms NMS per image at shape (1, 3, 512, 256)\n",
      "Results saved to \u001b[1mpenguin_2021\\adult_stand_s5_best3\u001b[0m\n",
      "YOLOv5  v6.1-250-g6adc53b Python-3.8.2 torch-1.9.1+cu111 CPU\n",
      "\n"
     ]
    },
    {
     "name": "stdout",
     "output_type": "stream",
     "text": [
      "../models/chick_s_best.pt\n",
      "chick_s_best\n"
     ]
    },
    {
     "name": "stderr",
     "output_type": "stream",
     "text": [
      "Fusing layers... \n",
      "PB2021_chick_YOLOv5l summary: 400 layers, 47364662 parameters, 0 gradients\n",
      "image 1/1 D:\\projects\\counting_penguins\\test_images\\test\\croz_20201129_v1_tiled-4-10_0_7.png: 128x256 1 ADPE_j, Done. (0.135s)\n",
      "Speed: 0.0ms pre-process, 134.6ms inference, 1.0ms NMS per image at shape (1, 3, 512, 256)\n",
      "Results saved to \u001b[1mpenguin_2021\\chick_s_best3\u001b[0m\n"
     ]
    }
   ],
   "source": [
    "# load librarys\n",
    "from pathlib import Path\n",
    "from argparse import Namespace\n",
    "import os\n",
    "# User inputs ---------------------------------------------------------------\n",
    "os.chdir(\"D:/projects/counting_penguins\")\n",
    "# model paths relitive to the YOLOv5 Directory\n",
    "models=['../models/adult_s2_best.pt',\n",
    "        '../models/adult_stand_s5_best.pt',\n",
    "        '../models/chick_s_best.pt']\n",
    "\n",
    "# tile folder relitive to the YOLOv5 directory\n",
    "tile_dir= \"D:/projects/counting_penguins/test_images/test\"\n",
    "\n",
    "# confidence threshold\n",
    "conf_thres=0.01\n",
    "\n",
    "# largest image dimention\n",
    "image_size=(512, 256)\n",
    "\n",
    "# name for output directory (will be created in the yolov5 directory, e.g. ./yolov5/penguin_2021)\n",
    "output_dir=\"penguin_2021\"\n",
    "\n",
    "\n",
    "# change to the yolov5 directory to inport the detect function\n",
    "print(os.getcwd())\n",
    "\n",
    "os.chdir(\"yolov5/\")\n",
    "os.getcwd()\n",
    "import detect\n",
    "\n",
    "# loop to run each model\n",
    "for mod in models:\n",
    "    print(mod)\n",
    "    \n",
    "    # run_name is the name of the subfodler to create within the project folder.\n",
    "    # In this case we name it after the model.  The detect function is set up to\n",
    "    # NOT overwrite a run_name if it already exists and will chreate a new name\n",
    "    # by adding a number after the runname and incrementing, so if you have many\n",
    "    # runs they will not over write eachouther for better or worse!\n",
    "    run_name=Path(mod).name.split(sep=\".\")[0]\n",
    "    print(run_name)\n",
    "    \n",
    "    # load all the parameters See the detect.py for more info on these\n",
    "    opt=Namespace(\n",
    "        conf_thres=conf_thres,\n",
    "        device=\"cpu\",\n",
    "        imgsz=image_size,\n",
    "        iou_thres=0.3,\n",
    "        name=run_name,\n",
    "        project=output_dir,\n",
    "        source=tile_dir,\n",
    "        weights=mod)\n",
    "    \n",
    "    detect.main(opt)  \n",
    "\n",
    "# change back to the main repo directory\n",
    "os.chdir(\"..\")\n",
    "\n"
   ]
  },
  {
   "cell_type": "code",
   "execution_count": null,
   "metadata": {},
   "outputs": [],
   "source": []
  }
 ],
 "metadata": {
  "kernelspec": {
   "display_name": "Python 3",
   "language": "python",
   "name": "python3"
  },
  "language_info": {
   "codemirror_mode": {
    "name": "ipython",
    "version": 3
   },
   "file_extension": ".py",
   "mimetype": "text/x-python",
   "name": "python",
   "nbconvert_exporter": "python",
   "pygments_lexer": "ipython3",
   "version": "3.8.2"
  }
 },
 "nbformat": 4,
 "nbformat_minor": 4
}
