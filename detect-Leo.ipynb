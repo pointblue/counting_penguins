{
 "cells": [
  {
   "cell_type": "code",
   "execution_count": 1,
   "metadata": {},
   "outputs": [],
   "source": [
    "# load libraries\n",
    "from pathlib import Path\n",
    "from argparse import Namespace\n",
    "import os\n"
   ]
  },
  {
   "cell_type": "code",
   "execution_count": 2,
   "metadata": {},
   "outputs": [],
   "source": [
    "# User inputs ---------------------------------------------------------------\n",
    "os.chdir(\"C:/users/lsalas/git/counting_penguins\")\n",
    "# model paths relitive to the YOLOv5 Directory\n",
    "models=['C:/users/lsalas/git/counting_penguins/models/adult_s2_best.pt',\n",
    "        'C:/users/lsalas/git/counting_penguins/models/adult_stand_s5_best.pt',\n",
    "        'C:/users/lsalas/git/counting_penguins/models/chick_s_best.pt']\n",
    "\n",
    "# tile folder relitive to the YOLOv5 directory\n",
    "tile_dir= \"C:/users/lsalas/git/counting_penguins/test_images/test_jpg/\"\n"
   ]
  },
  {
   "cell_type": "code",
   "execution_count": 3,
   "metadata": {},
   "outputs": [
    {
     "name": "stdout",
     "output_type": "stream",
     "text": [
      "C:\\users\\lsalas\\git\\counting_penguins\n"
     ]
    },
    {
     "data": {
      "text/plain": [
       "'c:\\\\users\\\\lsalas\\\\yolov5'"
      ]
     },
     "execution_count": 3,
     "metadata": {},
     "output_type": "execute_result"
    }
   ],
   "source": [
    "# confidence threshold\n",
    "conf_thres=0.01\n",
    "\n",
    "# largest image dimention\n",
    "image_size=(512, 256)\n",
    "\n",
    "# name for output directory (will be created in the yolov5 directory, e.g. ./yolov5/penguin_2021)\n",
    "output_dir=\"C:/users/lsalas/git/counting_penguins/outputs/count_2021\"\n",
    "\n",
    "# change to the yolov5 directory to inport the detect function\n",
    "print(os.getcwd())\n",
    "\n",
    "os.chdir(\"c:/users/lsalas/yolov5/\")\n",
    "os.getcwd()\n"
   ]
  },
  {
   "cell_type": "code",
   "execution_count": 4,
   "metadata": {
    "scrolled": true
   },
   "outputs": [
    {
     "name": "stdout",
     "output_type": "stream",
     "text": [
      "C:/users/lsalas/git/counting_penguins/models/adult_s2_best.pt\n",
      "adult_s2_best\n"
     ]
    },
    {
     "name": "stderr",
     "output_type": "stream",
     "text": [
      "YOLOv5 🚀 v6.1-378-g4bb3052 Python-3.9.12 torch-1.12.1+cpu CPU\n",
      "\n",
      "Fusing layers... \n",
      "PB2021_adult_YOLOv5l summary: 400 layers, 47364662 parameters, 0 gradients\n",
      "image 1/1 C:\\Users\\lsalas\\git\\counting_penguins\\test_images\\test_jpg\\croz_20201129_v1_tiled-4-10_0_7.jpg: 128x256 12 ADPE_as, Done. (0.393s)\n",
      "Speed: 1.0ms pre-process, 393.2ms inference, 4.0ms NMS per image at shape (1, 3, 512, 256)\n",
      "Results saved to \u001b[1mC:\\users\\lsalas\\git\\counting_penguins\\outputs\\count_2021\\adult_s2_best\u001b[0m\n",
      "1 labels saved to C:\\users\\lsalas\\git\\counting_penguins\\outputs\\count_2021\\adult_s2_best\\labels\n",
      "YOLOv5 🚀 v6.1-378-g4bb3052 Python-3.9.12 torch-1.12.1+cpu CPU\n",
      "\n"
     ]
    },
    {
     "name": "stdout",
     "output_type": "stream",
     "text": [
      "C:/users/lsalas/git/counting_penguins/models/adult_stand_s5_best.pt\n",
      "adult_stand_s5_best\n"
     ]
    },
    {
     "name": "stderr",
     "output_type": "stream",
     "text": [
      "Fusing layers... \n",
      "PB2021_adult_stand_YOLOv5l summary: 400 layers, 47364662 parameters, 0 gradients\n",
      "image 1/1 C:\\Users\\lsalas\\git\\counting_penguins\\test_images\\test_jpg\\croz_20201129_v1_tiled-4-10_0_7.jpg: 128x256 9 ADPE_a_stands, Done. (0.321s)\n",
      "Speed: 1.0ms pre-process, 321.1ms inference, 2.0ms NMS per image at shape (1, 3, 512, 256)\n",
      "Results saved to \u001b[1mC:\\users\\lsalas\\git\\counting_penguins\\outputs\\count_2021\\adult_stand_s5_best\u001b[0m\n",
      "1 labels saved to C:\\users\\lsalas\\git\\counting_penguins\\outputs\\count_2021\\adult_stand_s5_best\\labels\n",
      "YOLOv5 🚀 v6.1-378-g4bb3052 Python-3.9.12 torch-1.12.1+cpu CPU\n",
      "\n"
     ]
    },
    {
     "name": "stdout",
     "output_type": "stream",
     "text": [
      "C:/users/lsalas/git/counting_penguins/models/chick_s_best.pt\n",
      "chick_s_best\n"
     ]
    },
    {
     "name": "stderr",
     "output_type": "stream",
     "text": [
      "Fusing layers... \n",
      "PB2021_chick_YOLOv5l summary: 400 layers, 47364662 parameters, 0 gradients\n",
      "image 1/1 C:\\Users\\lsalas\\git\\counting_penguins\\test_images\\test_jpg\\croz_20201129_v1_tiled-4-10_0_7.jpg: 128x256 1 ADPE_j, Done. (0.273s)\n",
      "Speed: 0.0ms pre-process, 273.0ms inference, 2.0ms NMS per image at shape (1, 3, 512, 256)\n",
      "Results saved to \u001b[1mC:\\users\\lsalas\\git\\counting_penguins\\outputs\\count_2021\\chick_s_best\u001b[0m\n",
      "1 labels saved to C:\\users\\lsalas\\git\\counting_penguins\\outputs\\count_2021\\chick_s_best\\labels\n"
     ]
    }
   ],
   "source": [
    "import detect\n",
    "\n",
    "# loop to run each model\n",
    "for mod in models:\n",
    "    print(mod)\n",
    "    \n",
    "    # run_name is the name of the subfodler to create within the project folder.\n",
    "    # In this case we name it after the model.  The detect function is set up to\n",
    "    # NOT overwrite a run_name if it already exists and will chreate a new name\n",
    "    # by adding a number after the runname and incrementing, so if you have many\n",
    "    # runs they will not over write eachouther for better or worse!\n",
    "    run_name=Path(mod).name.split(sep=\".\")[0]\n",
    "    print(run_name)\n",
    "    \n",
    "    # load all the parameters See the detect.py for more info on these\n",
    "    opt=Namespace(\n",
    "        conf_thres=conf_thres,\n",
    "        device=\"cpu\",\n",
    "        imgsz=image_size,\n",
    "        iou_thres=0.3,\n",
    "        name=run_name,\n",
    "        project=output_dir,\n",
    "        source=tile_dir,\n",
    "        save_txt=\"c:/users/lsalas/git/counting_penguis/ouputs/text/txt_test.txt\",\n",
    "        weights=mod)\n",
    "    \n",
    "    detect.main(opt)  \n",
    "\n",
    "# change back to the main repo directory\n",
    "os.chdir(\"..\")\n"
   ]
  },
  {
   "cell_type": "code",
   "execution_count": null,
   "metadata": {},
   "outputs": [],
   "source": []
  }
 ],
 "metadata": {
  "kernelspec": {
   "display_name": "Python 3 (ipykernel)",
   "language": "python",
   "name": "python3"
  },
  "language_info": {
   "codemirror_mode": {
    "name": "ipython",
    "version": 3
   },
   "file_extension": ".py",
   "mimetype": "text/x-python",
   "name": "python",
   "nbconvert_exporter": "python",
   "pygments_lexer": "ipython3",
   "version": "3.9.12"
  }
 },
 "nbformat": 4,
 "nbformat_minor": 4
}
