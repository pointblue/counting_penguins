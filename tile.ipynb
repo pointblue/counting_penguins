{
 "cells": [
  {
   "cell_type": "code",
   "execution_count": 6,
   "metadata": {},
   "outputs": [],
   "source": [
    "from PIL import Image\n",
    "import math\n",
    "from pathlib import Path\n",
    "Image.MAX_IMAGE_PIXELS = None"
   ]
  },
  {
   "cell_type": "code",
   "execution_count": 27,
   "metadata": {},
   "outputs": [],
   "source": [
    "import numpy as np\n",
    "import itertools as it\n",
    "import os, sys\n",
    "class Tiler(object):\n",
    "    \"\"\"docstring for Tiler\"\"\"\n",
    "    def __init__(self, size=(1280, 1280), buffer=20,\n",
    "                 outDir=\"out\", outFileExt=\"png\"):\n",
    "        super(Tiler, self).__init__()\n",
    "        self.xSize, self.ySize = size\n",
    "        self.buffer = 20\n",
    "        self.outDir = outDir\n",
    "        self.outFileExt = outFileExt\n",
    "        \n",
    "        self.outDir = Path(outDir)\n",
    "        self.outDir.mkdir(parents=True, exist_ok=True)\n",
    "\n",
    "    def tile(self, file):\n",
    "        try:\n",
    "            with Image.open(file) as image:\n",
    "                name = Path(file).stem\n",
    "                # get number of tiles\n",
    "                nX = np.ceil((image.size[0]-self.buffer)/(self.xSize-self.buffer)).astype(int)\n",
    "                nY = np.ceil((image.size[1]-self.buffer)/(self.ySize-self.buffer)).astype(int)\n",
    "                # pad the image\n",
    "                pad = (nX*(self.xSize-self.buffer)+self.buffer-image.size[0],\n",
    "                       nY*(self.ySize-self.buffer)+self.buffer-image.size[1])\n",
    "                image = self.addMargin(image, pad)\n",
    "                # loop over square index to get top left of point and cropped image\n",
    "                print(f\"tileing file {name}\")\n",
    "                for (i,j) in it.product(range(nX), range(nY)):\n",
    "                    xx= i*(self.xSize-self.buffer)\n",
    "                    yy= j*(self.xSize-self.buffer)\n",
    "                    crop = image.crop((xx, yy, xx + self.xSize, yy + self.ySize))\n",
    "                    outfile = Path(name+f'_{i}_{j}.{self.outFileExt}')\n",
    "                    crop.save(self.outDir/outfile )\n",
    "                print(\"\\tdone\")\n",
    "        except OSError:\n",
    "            print(\"cannot open\", file)\n",
    "    \n",
    "    def addMargin(self, image, pad, color=(255, 255, 255)):\n",
    "        width, height = image.size\n",
    "        result = Image.new(image.mode, (width+pad[0], height+pad[1]), color)\n",
    "        result.paste(image, (0, 0))\n",
    "        return result\n",
    "        "
   ]
  },
  {
   "cell_type": "code",
   "execution_count": 28,
   "metadata": {},
   "outputs": [
    {
     "name": "stdout",
     "output_type": "stream",
     "text": [
      "skipping: source_tiffs\\coyote_2020-06-02.tif\n",
      "tileing file hat_2020-06-02\n",
      "\tdone\n",
      "skipping: source_tiffs\\java_2020-06-02.tif\n",
      "tileing file krakatoa_2020-06-02\n",
      "\tdone\n",
      "tileing file little_norway_2020-06-02\n",
      "\tdone\n",
      "tileing file little_tahiti_2020-06-02\n",
      "\tdone\n",
      "skipping: source_tiffs\\negit_ne_2020-06-02.tif\n",
      "skipping: source_tiffs\\pancakes_2020-06-02.tif\n",
      "tileing file piglet_2020-06-02\n",
      "\tdone\n",
      "tileing file spot_2020-06-02\n",
      "\tdone\n",
      "tileing file steamboat_2020-06-02\n",
      "\tdone\n",
      "tileing file tie_1_2020-06-02\n",
      "\tdone\n",
      "tileing file tie_2_2020-06-02\n",
      "\tdone\n",
      "tileing file twain_2020-06-02\n",
      "\tdone\n"
     ]
    }
   ],
   "source": [
    "tiler = Tiler(outDir=\"no_dots\")\n",
    "for file in glob.glob(\"source_tiffs/*.tif\"):\n",
    "    if any(island in file for island in [\"coyote\", \"negit_ne\", \"java\", \"pancakes\"]):\n",
    "           print(f\"skipping: {file}\")\n",
    "    else:\n",
    "        tiler.tile(file)"
   ]
  },
  {
   "cell_type": "code",
   "execution_count": 79,
   "metadata": {},
   "outputs": [
    {
     "data": {
      "text/plain": [
       "'hat_2020-06-02'"
      ]
     },
     "execution_count": 79,
     "metadata": {},
     "output_type": "execute_result"
    }
   ],
   "source": [
    "name=Path(im.filename)\n",
    "name.stem"
   ]
  },
  {
   "cell_type": "code",
   "execution_count": 11,
   "metadata": {},
   "outputs": [],
   "source": [
    "import glob as glob"
   ]
  },
  {
   "cell_type": "code",
   "execution_count": 13,
   "metadata": {},
   "outputs": [
    {
     "data": {
      "text/plain": [
       "['dot_tiffs\\\\coyote_2020-06-02.tif',\n",
       " 'dot_tiffs\\\\hat_2020-06-02.tif',\n",
       " 'dot_tiffs\\\\java_2020-06-02.tif',\n",
       " 'dot_tiffs\\\\krakatoa_2020-06-02.tif',\n",
       " 'dot_tiffs\\\\little_norway_2020-06-02.tif',\n",
       " 'dot_tiffs\\\\little_tahiti_2020-06-02.tif',\n",
       " 'dot_tiffs\\\\negit_ne_2020-06-02.tif',\n",
       " 'dot_tiffs\\\\pancakes_2020-06-02.tif',\n",
       " 'dot_tiffs\\\\piglet_2020-06-02.tif',\n",
       " 'dot_tiffs\\\\spot_2020-06-02.tif',\n",
       " 'dot_tiffs\\\\steamboat_2020-06-02.tif',\n",
       " 'dot_tiffs\\\\tie_1_2020-06-02.tif',\n",
       " 'dot_tiffs\\\\tie_2_2020-06-02.tif',\n",
       " 'dot_tiffs\\\\twain_2020-06-02.tif']"
      ]
     },
     "execution_count": 13,
     "metadata": {},
     "output_type": "execute_result"
    }
   ],
   "source": [
    "glob.glob(\"dot_tiffs/*.tif\")"
   ]
  },
  {
   "cell_type": "code",
   "execution_count": null,
   "metadata": {},
   "outputs": [],
   "source": []
  }
 ],
 "metadata": {
  "kernelspec": {
   "display_name": "Python 3",
   "language": "python",
   "name": "python3"
  },
  "language_info": {
   "codemirror_mode": {
    "name": "ipython",
    "version": 3
   },
   "file_extension": ".py",
   "mimetype": "text/x-python",
   "name": "python",
   "nbconvert_exporter": "python",
   "pygments_lexer": "ipython3",
   "version": "3.8.2"
  }
 },
 "nbformat": 4,
 "nbformat_minor": 4
}
